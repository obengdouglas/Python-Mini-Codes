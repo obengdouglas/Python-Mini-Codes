{
  "nbformat": 4,
  "nbformat_minor": 0,
  "metadata": {
    "colab": {
      "provenance": [],
      "authorship_tag": "ABX9TyMdachzSW8ZPbewExx7oke7",
      "include_colab_link": true
    },
    "kernelspec": {
      "name": "python3",
      "display_name": "Python 3"
    },
    "language_info": {
      "name": "python"
    }
  },
  "cells": [
    {
      "cell_type": "markdown",
      "metadata": {
        "id": "view-in-github",
        "colab_type": "text"
      },
      "source": [
        "<a href=\"https://colab.research.google.com/github/obengdouglas/Python-Mini-Codes/blob/main/Count%2C_sum_and_average_sequence_of_input_numbers.ipynb\" target=\"_parent\"><img src=\"https://colab.research.google.com/assets/colab-badge.svg\" alt=\"Open In Colab\"/></a>"
      ]
    },
    {
      "cell_type": "code",
      "execution_count": null,
      "metadata": {
        "colab": {
          "base_uri": "https://localhost:8080/"
        },
        "id": "95YRwdahgw6K",
        "outputId": "9b3f6a54-cf63-4d9d-ff4c-96c22baaa2fe"
      },
      "outputs": [
        {
          "output_type": "stream",
          "name": "stdout",
          "text": [
            "Start 0 0 0\n",
            "Enter a number5\n",
            "1 5.0 5.0\n",
            "Enter a number6\n",
            "2 11.0 5.5\n",
            "Enter a number7\n",
            "3 18.0 6.0\n",
            "Enter a number2\n",
            "4 20.0 5.0\n",
            "Enter a number4\n",
            "5 24.0 4.8\n",
            "Enter a number7\n",
            "6 31.0 5.166666666666667\n",
            "Enter a number2\n",
            "7 33.0 4.714285714285714\n",
            "Enter a numberdone\n",
            "End 7 33.0 4.714285714285714\n"
          ]
        }
      ],
      "source": [
        "#Exercise 5.1 Write a program which repeatedly reads numbers until the user enters \"done\". Once \"done\" is entered, print out the total, count and average of the numbers. If the user enters anything other than a number, detect their mistake using try and except and print an error message and skip to the next number.\n",
        "# inputs: 4, 5, bad data, 7, done\n",
        "\n",
        "count = 0\n",
        "sum = 0\n",
        "average = 0\n",
        "\n",
        "print (\"Start\", count, sum, average)\n",
        "while True:\n",
        "    num = input (\"Enter a number\")\n",
        "    if num == \"done\":\n",
        "        break\n",
        "    else:\n",
        "        try:\n",
        "            j = float(num)\n",
        "        except:\n",
        "            print (\"Invalid input\")\n",
        "            continue\n",
        "        count = count + 1\n",
        "        sum = sum + j\n",
        "        average = sum/count\n",
        "        print (count, sum, average)\n",
        "print (\"End\", count, sum, average)"
      ]
    }
  ]
}