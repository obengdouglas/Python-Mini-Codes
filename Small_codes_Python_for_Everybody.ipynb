{
  "nbformat": 4,
  "nbformat_minor": 0,
  "metadata": {
    "colab": {
      "provenance": [],
      "authorship_tag": "ABX9TyOdpGXBv7upwKoWVh1ZEPRT",
      "include_colab_link": true
    },
    "kernelspec": {
      "name": "python3",
      "display_name": "Python 3"
    },
    "language_info": {
      "name": "python"
    }
  },
  "cells": [
    {
      "cell_type": "markdown",
      "metadata": {
        "id": "view-in-github",
        "colab_type": "text"
      },
      "source": [
        "<a href=\"https://colab.research.google.com/github/obengdouglas/Python-Mini-Codes/blob/main/Small_codes_Python_for_Everybody.ipynb\" target=\"_parent\"><img src=\"https://colab.research.google.com/assets/colab-badge.svg\" alt=\"Open In Colab\"/></a>"
      ]
    },
    {
      "cell_type": "markdown",
      "source": [
        "#Python for Everybody by Coursera"
      ],
      "metadata": {
        "id": "Coqg5AOBPv5E"
      }
    },
    {
      "cell_type": "code",
      "source": [
        "# import libraries\n",
        "import numpy as np # linear algebra\n",
        "import pandas as pd # data processing\n",
        "import os\n",
        "import matplotlib.pyplot as plt\n",
        "from functools import reduce\n",
        "import seaborn as sns\n",
        "import sklearn\n",
        "import scipy\n",
        "import torch\n",
        "import torch.nn as nn\n",
        "import math\n",
        "from math import sqrt\n",
        "import random\n",
        "import time\n"
      ],
      "metadata": {
        "id": "bCpZE-VXxsIB"
      },
      "execution_count": null,
      "outputs": []
    },
    {
      "cell_type": "code",
      "execution_count": null,
      "metadata": {
        "colab": {
          "base_uri": "https://localhost:8080/"
        },
        "id": "X5po5bVYPlh5",
        "outputId": "617e3071-9b52-49d2-fe35-8283299b0126"
      },
      "outputs": [
        {
          "output_type": "stream",
          "name": "stdout",
          "text": [
            "hello world\n"
          ]
        }
      ],
      "source": [
        "print('hello world')"
      ]
    },
    {
      "cell_type": "code",
      "source": [
        "#2.2 Write a program that uses input to prompt a user for their name and then welcomes them.\n",
        "#Note that input will pop up a dialog box. Enter Sarah in the pop-up box when you are prompted so your output will match the desired output.\n",
        "name = input ('Enter your name')\n",
        "print('Hello ' + name)"
      ],
      "metadata": {
        "colab": {
          "base_uri": "https://localhost:8080/"
        },
        "id": "9dnoFsgTPtIS",
        "outputId": "8f03e01d-f243-4798-a196-c986c9314cb5"
      },
      "execution_count": null,
      "outputs": [
        {
          "output_type": "stream",
          "name": "stdout",
          "text": [
            "Enter your nameKwame\n",
            "Hello Kwame\n"
          ]
        }
      ]
    },
    {
      "cell_type": "code",
      "source": [
        "#2.3 Write a program to prompt the user for hours and rate per hour using input to compute gross pay.\n",
        "#Use 35 hours and a rate of 2.75 per hour to test the program (the pay should be 96.25). You should use input to read a string and float() to convert the string to a number.\n",
        "#Do not worry about error checking or bad user data.\n",
        "rate = input('Enter hourly rate')\n",
        "hours = input('Enter number of hours')\n",
        "gross_pay = float(rate) * float(hours)\n",
        "print('The gross pay is', gross_pay)\n"
      ],
      "metadata": {
        "colab": {
          "base_uri": "https://localhost:8080/"
        },
        "id": "3-bIpeSJQzPV",
        "outputId": "ab36f154-de42-4161-86a1-7b9a6723cd3b"
      },
      "execution_count": null,
      "outputs": [
        {
          "output_type": "stream",
          "name": "stdout",
          "text": [
            "Enter hourly rate2.75\n",
            "Enter number of hours35\n",
            "The gross pay is 96.25\n"
          ]
        }
      ]
    },
    {
      "cell_type": "code",
      "source": [
        "#3.1 Write a program to prompt the user for hours and rate per hour using input to compute gross pay.\n",
        "#Pay the hourly rate for the hours up to 40 and 1.5 times the hourly rate for all hours worked above 40 hours.\n",
        "#Use 45 hours and a rate of 10.50 per hour to test the program (the pay should be 498.75). You should use input to read a string and float() to convert the string to a number.\n",
        "#Do not worry about error checking the user input - assume the user types numbers properly.\n",
        "\n",
        "rate = input('Enter hourly rate')\n",
        "hours = input('Enter number of hours')\n",
        "\n",
        "try:\n",
        "  h = float(hours)\n",
        "  r = float(rate)\n",
        "except:\n",
        "  print('Enter a number for hours and rate')\n",
        "  quit\n",
        "\n",
        "if h<40:\n",
        "  gross_pay = float(rate) * float(hours)\n",
        "else:\n",
        "  gross_pay = float(rate) * (40 + (1.5*(float(hours)-40)))\n",
        "\n",
        "print(gross_pay)"
      ],
      "metadata": {
        "colab": {
          "base_uri": "https://localhost:8080/"
        },
        "id": "N77bNZUDSR5-",
        "outputId": "28907fe2-3e1a-4ce2-e05f-2bdd50982ddf"
      },
      "execution_count": null,
      "outputs": [
        {
          "output_type": "stream",
          "name": "stdout",
          "text": [
            "Enter hourly rate10.5\n",
            "Enter number of hours45\n",
            "498.75\n"
          ]
        }
      ]
    },
    {
      "cell_type": "code",
      "source": [
        "#3.3 Write a program to prompt for a score between 0.0 and 1.0. If the score is out of range, print an error.\n",
        "#If the score is between 0.0 and 1.0, print a grade using the following table:\n",
        "# Score Grade\n",
        "# >= 0.9 A\n",
        "# >= 0.8 B\n",
        "# >= 0.7 C\n",
        "# >= 0.6 D\n",
        "# < 0.6 F\n",
        "# If the user enters a value out of range, print a suitable error message and exit. For the test, enter a score of 0.85.\n",
        "\n",
        "score = input('Enter your score')\n",
        "\n",
        "try:\n",
        "  s = float(score)\n",
        "except:\n",
        "  print('Enter a number')\n",
        "  quit\n",
        "if s<0 or s>1:\n",
        "  print('Enter a number between and 1')\n",
        "elif s>= 0.9:\n",
        "  print('A')\n",
        "elif s>= 0.8:\n",
        "  print('B')\n",
        "elif s>= 0.7:\n",
        "  print('C')\n",
        "elif s>= 0.6:\n",
        "  print('D')\n",
        "else:\n",
        "  #s< 0.6:\n",
        "  print('F')"
      ],
      "metadata": {
        "colab": {
          "base_uri": "https://localhost:8080/"
        },
        "id": "X8SGW1xFT6c7",
        "outputId": "12c1655d-be4c-4514-c257-3434c34519ca"
      },
      "execution_count": null,
      "outputs": [
        {
          "output_type": "stream",
          "name": "stdout",
          "text": [
            "Enter your score0.5\n",
            "F\n"
          ]
        }
      ]
    },
    {
      "cell_type": "code",
      "source": [
        "#4.6 Write a program to prompt the user for hours and rate per hour using input to compute gross pay. Pay should be the normal rate for hours up to 40 and time-and-a-half for\n",
        "#the hourly rate for all hours worked above 40 hours. Put the logic to do the computation of pay in a function called computepay() and use the function to do the computation.\n",
        "#The function should return a value. Use 45 hours and a rate of 10.50 per hour to test the program (the pay should be 498.75). You should use input to read a string and float()\n",
        "#to convert the string to a number. Do not worry about error checking the user input unless you want to - you can assume the user types numbers properly.\n",
        "#Do not name your variable sum or use the sum() function.\n",
        "\n",
        "def computepay(h, r):\n",
        "  if h<40:\n",
        "    return (h*r)\n",
        "  else:\n",
        "    return (40*r)+((h-40)*(1.5*r))\n",
        "\n",
        "hrs = input('Enter hours')\n",
        "rt = input('Enter rate')\n",
        "try:\n",
        "  h=float(hrs)\n",
        "  r=float(rt)\n",
        "except:\n",
        "  print('Enter a number')\n",
        "  quit\n",
        "p = computepay(h, r)\n",
        "print('Pay: ', p)"
      ],
      "metadata": {
        "colab": {
          "base_uri": "https://localhost:8080/"
        },
        "id": "F-v1gHB0YQcn",
        "outputId": "f1a0f112-708f-4794-a363-de1cb9a922dd"
      },
      "execution_count": null,
      "outputs": [
        {
          "output_type": "stream",
          "name": "stdout",
          "text": [
            "Enter hours45\n",
            "Enter rate10.5\n",
            "Pay:  498.75\n"
          ]
        }
      ]
    },
    {
      "cell_type": "code",
      "source": [
        "#5.2 Write a program that repeatedly prompts a user for integer numbers until the user enters 'done'. Once 'done' is entered, print out the largest and smallest of the numbers.\n",
        "#If the user enters anything other than a valid number catch it with a try/except and put out an appropriate message and ignore the number.\n",
        "#Enter 7, 2, bob, 10, and 4 and match the output below.\n",
        "\n",
        "smallest = None\n",
        "largest = None\n",
        "\n",
        "while True:\n",
        "  num = input('Enter a number')\n",
        "  if num == 'done':\n",
        "    break\n",
        "  else:\n",
        "    try:\n",
        "      n = float(num)\n",
        "    except:\n",
        "      print('Enter a number')\n",
        "      quit\n",
        "    if smallest is None:\n",
        "      smallest = n\n",
        "    elif smallest > n:\n",
        "      smallest = n\n",
        "    if largest is None:\n",
        "      largest = n\n",
        "    elif largest < n:\n",
        "      largest = n\n",
        "\n",
        "print('Smallest: ', smallest)\n",
        "print('Largest: ', largest)\n"
      ],
      "metadata": {
        "colab": {
          "base_uri": "https://localhost:8080/"
        },
        "id": "VG83kId4dApj",
        "outputId": "8314ad8e-5f89-4ec4-96ca-09866ea22217"
      },
      "execution_count": null,
      "outputs": [
        {
          "output_type": "stream",
          "name": "stdout",
          "text": [
            "Enter a number2\n",
            "Enter a number6\n",
            "Enter a number34\n",
            "Enter a numberbob\n",
            "Enter a number\n",
            "Enter a number3\n",
            "Enter a number7\n",
            "Enter a number30\n",
            "Enter a numberdone\n",
            "Smallest:  2.0\n",
            "Largest:  34.0\n"
          ]
        }
      ]
    },
    {
      "cell_type": "code",
      "source": [
        "#6.5 Write code using find() and string slicing (see section 6.10) to extract the number at the end of the line below. Convert the extracted value to a floating point number and print it out.\n",
        "\n",
        "text = \"X-DSPAM-Confidence:    0.8475\"\n",
        "num=text.find('0')\n",
        "print(float(text[num:]))"
      ],
      "metadata": {
        "colab": {
          "base_uri": "https://localhost:8080/"
        },
        "id": "lplhNtb6jHxA",
        "outputId": "36af5ecd-e458-476e-c4f5-66ecdea8ac1d"
      },
      "execution_count": null,
      "outputs": [
        {
          "output_type": "stream",
          "name": "stdout",
          "text": [
            "0.8475\n"
          ]
        }
      ]
    },
    {
      "cell_type": "code",
      "source": [
        "#7.1 Write a program that prompts for a file name, then opens that file and reads through the file, and print the contents of the file in upper case. Use the file words.txt to produce the output below.\n",
        "#You can download the sample data at http://www.py4e.com/code3/words.txt, https://raw.githubusercontent.com/csev/py4e/master/code3/words.txt\n",
        "\n",
        "fname=input('Enter file path')\n",
        "fh = open(fname)\n",
        "\n",
        "print(f)"
      ],
      "metadata": {
        "colab": {
          "base_uri": "https://localhost:8080/",
          "height": 263
        },
        "id": "F7maMFhplaEL",
        "outputId": "9abf33e0-767f-44b3-eacd-d44951ef8adf"
      },
      "execution_count": null,
      "outputs": [
        {
          "name": "stdout",
          "output_type": "stream",
          "text": [
            "Enter file pathhttps://raw.githubusercontent.com/obengdouglas/py4e/master/code3/words.txt\n"
          ]
        },
        {
          "output_type": "error",
          "ename": "FileNotFoundError",
          "evalue": "ignored",
          "traceback": [
            "\u001b[0;31m---------------------------------------------------------------------------\u001b[0m",
            "\u001b[0;31mFileNotFoundError\u001b[0m                         Traceback (most recent call last)",
            "\u001b[0;32m<ipython-input-4-7b54f6fccc19>\u001b[0m in \u001b[0;36m<module>\u001b[0;34m()\u001b[0m\n\u001b[1;32m      3\u001b[0m \u001b[0;34m\u001b[0m\u001b[0m\n\u001b[1;32m      4\u001b[0m \u001b[0mfname\u001b[0m\u001b[0;34m=\u001b[0m\u001b[0minput\u001b[0m\u001b[0;34m(\u001b[0m\u001b[0;34m'Enter file path'\u001b[0m\u001b[0;34m)\u001b[0m\u001b[0;34m\u001b[0m\u001b[0;34m\u001b[0m\u001b[0m\n\u001b[0;32m----> 5\u001b[0;31m \u001b[0mfh\u001b[0m \u001b[0;34m=\u001b[0m \u001b[0mopen\u001b[0m\u001b[0;34m(\u001b[0m\u001b[0mfname\u001b[0m\u001b[0;34m)\u001b[0m\u001b[0;34m\u001b[0m\u001b[0;34m\u001b[0m\u001b[0m\n\u001b[0m\u001b[1;32m      6\u001b[0m \u001b[0;34m\u001b[0m\u001b[0m\n\u001b[1;32m      7\u001b[0m \u001b[0mprint\u001b[0m\u001b[0;34m(\u001b[0m\u001b[0mf\u001b[0m\u001b[0;34m)\u001b[0m\u001b[0;34m\u001b[0m\u001b[0;34m\u001b[0m\u001b[0m\n",
            "\u001b[0;31mFileNotFoundError\u001b[0m: [Errno 2] No such file or directory: 'https://raw.githubusercontent.com/obengdouglas/py4e/master/code3/words.txt'"
          ]
        }
      ]
    },
    {
      "cell_type": "code",
      "source": [],
      "metadata": {
        "id": "PzCP_en4mVZ2"
      },
      "execution_count": null,
      "outputs": []
    }
  ]
}