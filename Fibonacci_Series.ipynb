{
  "nbformat": 4,
  "nbformat_minor": 0,
  "metadata": {
    "colab": {
      "provenance": [],
      "authorship_tag": "ABX9TyPnc/Q8AeKYbA3qGJv3lKRL",
      "include_colab_link": true
    },
    "kernelspec": {
      "name": "python3",
      "display_name": "Python 3"
    },
    "language_info": {
      "name": "python"
    }
  },
  "cells": [
    {
      "cell_type": "markdown",
      "metadata": {
        "id": "view-in-github",
        "colab_type": "text"
      },
      "source": [
        "<a href=\"https://colab.research.google.com/github/obengdouglas/Python-Mini-Codes/blob/main/Fibonacci_Series.ipynb\" target=\"_parent\"><img src=\"https://colab.research.google.com/assets/colab-badge.svg\" alt=\"Open In Colab\"/></a>"
      ]
    },
    {
      "cell_type": "markdown",
      "metadata": {
        "id": "ASIN5izeXLJF"
      },
      "source": [
        "#4. Write a Python program to print Fibonacci Series"
      ]
    },
    {
      "cell_type": "code",
      "metadata": {
        "id": "cF8iHBKOVu3s",
        "colab": {
          "base_uri": "https://localhost:8080/"
        },
        "outputId": "c393f7b1-5231-405d-a070-fd49accf65b5"
      },
      "source": [
        "def f(n):\n",
        "  if n == 0: return 0\n",
        "  elif n == 1: return 1\n",
        "  else: return f(n-1)+f(n-2)\n",
        "\n",
        "for n in range(0,15):\n",
        "  print(f(n))\n"
      ],
      "execution_count": null,
      "outputs": [
        {
          "output_type": "stream",
          "name": "stdout",
          "text": [
            "0\n",
            "1\n",
            "1\n",
            "2\n",
            "3\n",
            "5\n",
            "8\n",
            "13\n",
            "21\n",
            "34\n",
            "55\n",
            "89\n",
            "144\n",
            "233\n",
            "377\n"
          ]
        }
      ]
    }
  ]
}