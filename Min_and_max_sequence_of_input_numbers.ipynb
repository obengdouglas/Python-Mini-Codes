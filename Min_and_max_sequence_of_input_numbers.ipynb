{
  "nbformat": 4,
  "nbformat_minor": 0,
  "metadata": {
    "colab": {
      "provenance": [],
      "authorship_tag": "ABX9TyMcyAG8p1ChKqt7ELpZq3Gy",
      "include_colab_link": true
    },
    "kernelspec": {
      "name": "python3",
      "display_name": "Python 3"
    },
    "language_info": {
      "name": "python"
    }
  },
  "cells": [
    {
      "cell_type": "markdown",
      "metadata": {
        "id": "view-in-github",
        "colab_type": "text"
      },
      "source": [
        "<a href=\"https://colab.research.google.com/github/obengdouglas/Python-Mini-Codes/blob/main/Min_and_max_sequence_of_input_numbers.ipynb\" target=\"_parent\"><img src=\"https://colab.research.google.com/assets/colab-badge.svg\" alt=\"Open In Colab\"/></a>"
      ]
    },
    {
      "cell_type": "code",
      "execution_count": null,
      "metadata": {
        "colab": {
          "base_uri": "https://localhost:8080/"
        },
        "id": "Jri7RtvUgvBT",
        "outputId": "7935e0af-66f4-4c01-8287-9de96bcc2c3e"
      },
      "outputs": [
        {
          "output_type": "stream",
          "name": "stdout",
          "text": [
            "Enter a number: 5\n",
            "Enter a number: 6\n",
            "Enter a number: 3\n",
            "Enter a number: 4\n",
            "Enter a number: 6\n",
            "Enter a number: 12\n",
            "Enter a number: 56\n",
            "Enter a number: 2\n",
            "Enter a number: -9\n",
            "Enter a number: 0\n",
            "Enter a number: done\n",
            "Maximum is 56\n",
            "Minimum is -9\n"
          ]
        }
      ],
      "source": [
        "#5.2 Write a program that repeatedly prompts a user for integer numbers until the user enters 'done'. Once 'done' is entered, print out the largest and smallest of the numbers. If the user enters anything other than a valid number catch it with a try/except and put out an appropriate message and ignore the number. Enter 7, 2, bob, 10, and 4 and match the output below.\n",
        "\n",
        "largest = None\n",
        "smallest = None\n",
        "while True:\n",
        "    num = input(\"Enter a number: \")\n",
        "    if num == \"done\":\n",
        "        break\n",
        "    else:\n",
        "        try:\n",
        "            j = int(num)\n",
        "        except:\n",
        "            print (\"Invalid input\")\n",
        "            continue\n",
        "        if smallest is None:\n",
        "            smallest = j\n",
        "        elif smallest > j:\n",
        "            smallest = j\n",
        "        if largest is None:\n",
        "            largest = j\n",
        "        elif largest < j:\n",
        "            largest = j\n",
        "        #print (num, smallest, largest)\n",
        "\n",
        "print(\"Maximum is\", largest)\n",
        "print(\"Minimum is\", smallest)"
      ]
    }
  ]
}