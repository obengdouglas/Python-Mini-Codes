{
  "nbformat": 4,
  "nbformat_minor": 0,
  "metadata": {
    "colab": {
      "provenance": [],
      "authorship_tag": "ABX9TyPnfzkHaFmhwnFxY2ZwCHBy",
      "include_colab_link": true
    },
    "kernelspec": {
      "name": "python3",
      "display_name": "Python 3"
    },
    "language_info": {
      "name": "python"
    }
  },
  "cells": [
    {
      "cell_type": "markdown",
      "metadata": {
        "id": "view-in-github",
        "colab_type": "text"
      },
      "source": [
        "<a href=\"https://colab.research.google.com/github/obengdouglas/Python-Mini-Codes/blob/main/Sort_numbers_without_sort.ipynb\" target=\"_parent\"><img src=\"https://colab.research.google.com/assets/colab-badge.svg\" alt=\"Open In Colab\"/></a>"
      ]
    },
    {
      "cell_type": "markdown",
      "metadata": {
        "id": "fPmZtcqtUgoi"
      },
      "source": [
        "Write a sorting function without using the list.sort function (descending order)\n"
      ]
    },
    {
      "cell_type": "code",
      "metadata": {
        "id": "TPMIibqlVZAo",
        "colab": {
          "base_uri": "https://localhost:8080/"
        },
        "outputId": "210d4d78-79ce-413d-af20-6084948517f9"
      },
      "source": [
        "lst=[24, 55, 78, 64, 25, 12, 22, 11, 1, 2, 44, 3, 122, 23, 34]\n",
        "n_list = []\n",
        "\n",
        "while lst:\n",
        "  minimum=lst[0]\n",
        "  for x in lst:\n",
        "    if x>minimum:\n",
        "      minimum=x\n",
        "  n_list.append(minimum)\n",
        "  lst.remove(minimum)\n",
        "\n",
        "print(n_list)"
      ],
      "execution_count": null,
      "outputs": [
        {
          "output_type": "stream",
          "name": "stdout",
          "text": [
            "[122, 78, 64, 55, 44, 34, 25, 24, 23, 22, 12, 11, 3, 2, 1]\n"
          ]
        }
      ]
    }
  ]
}